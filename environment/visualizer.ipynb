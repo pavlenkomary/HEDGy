{
 "cells": [
  {
   "cell_type": "code",
   "execution_count": null,
   "metadata": {},
   "outputs": [],
   "source": [
    "\n",
    "from IPython.display import clear_output\n",
    "\n",
    "from optibook.synchronous_client import InfoOnly\n",
    "import random\n",
    "import time\n",
    "import datetime\n",
    "\n",
    "import logging\n",
    "logger = logging.getLogger('client')\n",
    "logger.setLevel('ERROR')\n",
    "\n",
    "\n",
    "def book_pretty(price_book):\n",
    "    if price_book is None:\n",
    "        return 'NO BOOK'\n",
    "    \n",
    "    res = ''\n",
    "    for level in reversed(range(6)):\n",
    "        if level >= len(price_book.asks):\n",
    "            res += \"\\n\"\n",
    "        else:\n",
    "            ask = price_book.asks[level]\n",
    "            res += f\"        |  {ask.price:8.2f}  |  {ask.volume:5} \\n\"\n",
    "\n",
    "    res += '------------------------------\\n'\n",
    "\n",
    "    for level in range(6):\n",
    "        if level >= len(price_book.bids):\n",
    "            res += \"\\n\"\n",
    "        else:\n",
    "            bid = price_book.bids[level]\n",
    "            res += f\" {bid.volume:5}  |  {bid.price:8.2f}  |       \\n\"   \n",
    "\n",
    "    return res\n",
    "\n",
    "def tradeticks_pretty(disp_tradeticks):\n",
    "    res = ''\n",
    "    for t, dtt in reversed(disp_tradeticks):\n",
    "        res += f\"{t.strftime('%H:%M:%S')} -- {dtt.volume:5} @ {dtt.price:8.2f}\\n\"\n",
    "    return res\n",
    "\n",
    "i = InfoOnly()\n",
    "#i = InfoOnly(host='host-to-connect-to')\n",
    "i.connect()"
   ]
  },
  {
   "cell_type": "code",
   "execution_count": null,
   "metadata": {},
   "outputs": [],
   "source": [
    "disp_tradeticks = []\n",
    "disp_tradeticks_max_age = datetime.timedelta(seconds=20)\n",
    "feedcode = 'PHILIPS_A'\n",
    "\n",
    "while True:\n",
    "    now = datetime.datetime.now()\n",
    "\n",
    "    book = i.get_last_price_book(feedcode)\n",
    "    trade_ticks = i.poll_new_trade_ticks(feedcode)\n",
    "\n",
    "    for tt in trade_ticks:\n",
    "        disp_tradeticks.append((now, tt))\n",
    "\n",
    "    disp_tradeticks = [(t, dtt) for t, dtt in disp_tradeticks if now - t < disp_tradeticks_max_age]\n",
    "\n",
    "    clear_output(wait=True)\n",
    "    print(f\"Order Book for '{feedcode}':\")\n",
    "    print(book_pretty(book))\n",
    "    \n",
    "    print(f\"\\nTrade ticks in last {disp_tradeticks_max_age.total_seconds()}s for '{feedcode}':\")\n",
    "    print(tradeticks_pretty(disp_tradeticks))\n",
    "            \n",
    "    time.sleep(0.020)"
   ]
  },
  {
   "cell_type": "code",
   "execution_count": null,
   "metadata": {},
   "outputs": [],
   "source": []
  }
 ],
 "metadata": {
  "kernelspec": {
   "display_name": "Python 3",
   "language": "python",
   "name": "python3"
  },
  "language_info": {
   "codemirror_mode": {
    "name": "ipython",
    "version": 3
   },
   "file_extension": ".py",
   "mimetype": "text/x-python",
   "name": "python",
   "nbconvert_exporter": "python",
   "pygments_lexer": "ipython3",
   "version": "3.7.0"
  }
 },
 "nbformat": 4,
 "nbformat_minor": 2
}
