{
 "cells": [
  {
   "cell_type": "code",
   "execution_count": null,
   "metadata": {},
   "outputs": [],
   "source": [
    "from optibook.synchronous_client import Exchange\n",
    "from trader3 import Trader\n",
    "from time import sleep\n",
    "from threading import Thread\n",
    "\n",
    "# Use README for more detail on strategy and functions\n",
    "\n",
    "e = Exchange()\n",
    "a = e.connect()\n",
    "\n",
    "TIME_PERIOD = 0.13\n",
    "TIME_RUNNING = 1200\n",
    "TRADES = TIME_RUNNING / TIME_PERIOD\n",
    "ORDER_VOLUME = 24\n",
    "WEIGHTING_FACTOR = 0.1/ORDER_VOLUME \n",
    "VOLUME_WEIGHTING = 1/2\n",
    "INSTRUMENT = \"PHILIPS_B\"\n",
    "\n",
    "e.poll_new_trades(INSTRUMENT)\n",
    "\n",
    "diagonosticsOutput = \"\"\n",
    "\n",
    "firstTrader = Trader(exchange=e, instrument=INSTRUMENT, instrumentB=\"PHILIPS_A\", orderVolume=ORDER_VOLUME, weightingFactor=WEIGHTING_FACTOR, volumeWeighting = VOLUME_WEIGHTING)\n",
    "executing = True\n",
    "count = 0\n",
    "while executing:\n",
    "    firstTrader.trade()\n",
    "    firstTrader.hedge()\n",
    "    \n",
    "    # This is a last-minute strategy to take advantage of other people's inefficient algorithms\n",
    "    # We set up very favourable orders in an attempt to catch those without appropriate checks on their order volume and price\n",
    "    e.insert_order(\"PHILIPS_B\", price=20.1, volume=300, side=\"bid\", order_type=\"limit\")\n",
    "    e.insert_order(\"PHILIPS_B\", price=139.9, volume=300, side=\"ask\", order_type=\"limit\")\n",
    "    \n",
    "    if count > TRADES:\n",
    "        executing = False\n",
    "    count += 1\n",
    "    sleep(TIME_PERIOD)\n",
    "\n",
    "print(diagonosticsOutput)\n",
    "firstTrader.close()"
   ]
  }
 ],
 "metadata": {
  "kernelspec": {
   "display_name": "Python 3",
   "language": "python",
   "name": "python3"
  },
  "language_info": {
   "codemirror_mode": {
    "name": "ipython",
    "version": 3
   },
   "file_extension": ".py",
   "mimetype": "text/x-python",
   "name": "python",
   "nbconvert_exporter": "python",
   "pygments_lexer": "ipython3",
   "version": "3.7.0"
  }
 },
 "nbformat": 4,
 "nbformat_minor": 2
}
